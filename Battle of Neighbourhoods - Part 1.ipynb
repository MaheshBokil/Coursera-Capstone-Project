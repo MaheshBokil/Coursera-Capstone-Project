{
    "cells": [
        {
            "cell_type": "markdown",
            "metadata": {
                "collapsed": true
            },
            "source": "Capstone Project - Battle of Neighbourhoods (Part 1) - Both Answers are together"
        },
        {
            "cell_type": "markdown",
            "metadata": {},
            "source": "1. Introduction to the Problem"
        },
        {
            "cell_type": "markdown",
            "metadata": {},
            "source": "Initial Statement.  I want to open an Indian restaurant in the US.\n"
        },
        {
            "cell_type": "markdown",
            "metadata": {},
            "source": "Choosing Location.\n\nLocation plays a very important role in setting up a new restaurant. We may find customers who may absolutely like the idea of a particular type of restaurant or totally not like it. Your business will depend on the like/ dislike of people. We often find such examples. One also needs to be cautious about the look and feel of the restaurant. Also, marketing says that we should start our new business in a new area, but research has shown otherwise. That is why we find clustering of restaurant-areas, business-areas, IT areas etc. If you adequately define your restaurant\u2019s look and feel while also identifying the location, you would do well. \nPlanning."
        },
        {
            "cell_type": "markdown",
            "metadata": {},
            "source": "Planning.\nThis does not have to be a spontaneous idea. It has to be meticulously planned and then thought about again before investing in your asset. Following are general parameters required to start the process:-"
        },
        {
            "cell_type": "markdown",
            "metadata": {},
            "source": "(a)  Look and Feel.  Here we are talking about starting an Indian restaurant. So, what does one associate with India? Culture, food and Bollywood (Yes, it is an important part). So, we can choose one of these (and many more) to set as the central idea around which the look and feel will revolve. Like, if we choose Bollywood, then we could have posters of movie stars (old and new), posters of films, transcripts of songs, film-memorabilia etc on display.\n"
        },
        {
            "cell_type": "markdown",
            "metadata": {},
            "source": "(b)  Food/ Menu.  Sine it is an Indian restaurant, then we have to serve Indian food. Two major issues \u2013 Indian recipies/ ingredients and also Indian chefs. Do we have them? What would it take to source them locally? Or should we get them from India."
        },
        {
            "cell_type": "markdown",
            "metadata": {},
            "source": "(c)  Nearby Indian Restaurants.  We need to cater for these, if any. If none are present, then it could be great. But if there are a few Indian restaurants around, then we need to be one notch up."
        },
        {
            "cell_type": "markdown",
            "metadata": {},
            "source": "Selection/ Augmentation of Data for the Project.\n\n"
        },
        {
            "cell_type": "markdown",
            "metadata": {},
            "source": "It can be seen that there are a large number of Indian residents in the US. In fact, their nmber has grown manifolds during the last decade. Also, they are spread far and wide. They are present not only in business districts, but also in the suburbs. However, I would like to concentrate on these suburbs, as this population is more and growing."
        },
        {
            "cell_type": "markdown",
            "metadata": {},
            "source": "After doing a lot of research, I have found the necessary data on Wiki.\nhttps://en.wikipedia.org/wiki/Indian_Americans"
        },
        {
            "cell_type": "markdown",
            "metadata": {},
            "source": "This data is demographic and has a variety on categories for me to choose from, like genderm agem occupation etc. By analysing this data,I would be able to get a good knowledge about the demography and then decide where to set up my restaurant an what theme would it be based upon."
        },
        {
            "cell_type": "code",
            "execution_count": null,
            "metadata": {},
            "outputs": [],
            "source": ""
        }
    ],
    "metadata": {
        "kernelspec": {
            "display_name": "Python 3.6",
            "language": "python",
            "name": "python3"
        },
        "language_info": {
            "codemirror_mode": {
                "name": "ipython",
                "version": 3
            },
            "file_extension": ".py",
            "mimetype": "text/x-python",
            "name": "python",
            "nbconvert_exporter": "python",
            "pygments_lexer": "ipython3",
            "version": "3.6.9"
        }
    },
    "nbformat": 4,
    "nbformat_minor": 1
}