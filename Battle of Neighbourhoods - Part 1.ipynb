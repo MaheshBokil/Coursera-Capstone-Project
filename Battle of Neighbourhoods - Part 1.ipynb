{
    "cells": [
        {
            "cell_type": "markdown",
            "metadata": {
                "collapsed": true
            },
            "source": "Capstone Project - Battle of Neighbourhoods (Part 1) - Both Answers are together"
        },
        {
            "cell_type": "markdown",
            "metadata": {},
            "source": "1. Introduction to the Problem"
        },
        {
            "cell_type": "markdown",
            "metadata": {},
            "source": "Initial Statement.  Analysis of Restaurants in Paris on the basis of its Type and Distance Using Foursquare API\n"
        },
        {
            "cell_type": "markdown",
            "metadata": {},
            "source": "Paris is certainly one of the best cities for food-culture in the entire Europe. There are abundant choices for various types of goumet food in the city. There are also Mitichelin Star-chefs and Mitichelin star-restaurants. I have personally been to Paris on a number of ocassions and have been amazed with the options available in the city. I always want to try out more. And I am sure, all tourists also would be hungry-for-more. \nOne major problem that I have found is the distance of our places of residence in Paris to the locations of these fantatic restaurants. Therefore, I want to find ot the correct distances, preferably from a central location, so as to make it easy for everyone and also so that I may be able to use it during my next visit and also share it with the community. "
        },
        {
            "cell_type": "markdown",
            "metadata": {},
            "source": "I would be using the Foursquare API, which we have learned in the previous module. "
        },
        {
            "cell_type": "markdown",
            "metadata": {},
            "source": "In order to import the required libraries,I would run the following code:-"
        },
        {
            "cell_type": "code",
            "execution_count": 2,
            "metadata": {},
            "outputs": [
                {
                    "name": "stdout",
                    "output_type": "stream",
                    "text": "Collecting folium\n\u001b[?25l  Downloading https://files.pythonhosted.org/packages/fd/a0/ccb3094026649cda4acd55bf2c3822bb8c277eb11446d13d384e5be35257/folium-0.10.1-py2.py3-none-any.whl (91kB)\n\u001b[K     |\u2588\u2588\u2588\u2588\u2588\u2588\u2588\u2588\u2588\u2588\u2588\u2588\u2588\u2588\u2588\u2588\u2588\u2588\u2588\u2588\u2588\u2588\u2588\u2588\u2588\u2588\u2588\u2588\u2588\u2588\u2588\u2588| 92kB 12.6MB/s eta 0:00:01\n\u001b[?25hRequirement already satisfied: jinja2>=2.9 in /opt/conda/envs/Python36/lib/python3.6/site-packages (from folium) (2.10)\nCollecting branca>=0.3.0 (from folium)\n  Downloading https://files.pythonhosted.org/packages/81/6d/31c83485189a2521a75b4130f1fee5364f772a0375f81afff619004e5237/branca-0.4.0-py3-none-any.whl\nRequirement already satisfied: requests in /opt/conda/envs/Python36/lib/python3.6/site-packages (from folium) (2.21.0)\nRequirement already satisfied: numpy in /opt/conda/envs/Python36/lib/python3.6/site-packages (from folium) (1.15.4)\nRequirement already satisfied: MarkupSafe>=0.23 in /opt/conda/envs/Python36/lib/python3.6/site-packages (from jinja2>=2.9->folium) (1.1.0)\nRequirement already satisfied: six in /opt/conda/envs/Python36/lib/python3.6/site-packages (from branca>=0.3.0->folium) (1.12.0)\nRequirement already satisfied: certifi>=2017.4.17 in /opt/conda/envs/Python36/lib/python3.6/site-packages (from requests->folium) (2019.11.28)\nRequirement already satisfied: chardet<3.1.0,>=3.0.2 in /opt/conda/envs/Python36/lib/python3.6/site-packages (from requests->folium) (3.0.4)\nRequirement already satisfied: idna<2.9,>=2.5 in /opt/conda/envs/Python36/lib/python3.6/site-packages (from requests->folium) (2.8)\nRequirement already satisfied: urllib3<1.25,>=1.21.1 in /opt/conda/envs/Python36/lib/python3.6/site-packages (from requests->folium) (1.24.1)\nInstalling collected packages: branca, folium\nSuccessfully installed branca-0.4.0 folium-0.10.1\nSolving environment: done\n\n## Package Plan ##\n\n  environment location: /opt/conda/envs/Python36\n\n  added / updated specs: \n    - geopy\n\n\nThe following packages will be downloaded:\n\n    package                    |            build\n    ---------------------------|-----------------\n    geographiclib-1.50         |             py_0          34 KB  conda-forge\n    ca-certificates-2019.11.28 |       hecc5488_0         145 KB  conda-forge\n    geopy-1.21.0               |             py_0          58 KB  conda-forge\n    certifi-2019.11.28         |           py36_0         149 KB  conda-forge\n    openssl-1.1.1d             |       h516909a_0         2.1 MB  conda-forge\n    ------------------------------------------------------------\n                                           Total:         2.5 MB\n\nThe following NEW packages will be INSTALLED:\n\n    geographiclib:   1.50-py_0         conda-forge\n    geopy:           1.21.0-py_0       conda-forge\n\nThe following packages will be UPDATED:\n\n    ca-certificates: 2019.11.27-0                  --> 2019.11.28-hecc5488_0 conda-forge\n    certifi:         2019.11.28-py36_0             --> 2019.11.28-py36_0     conda-forge\n\nThe following packages will be DOWNGRADED:\n\n    openssl:         1.1.1d-h7b6447c_3             --> 1.1.1d-h516909a_0     conda-forge\n\n\nDownloading and Extracting Packages\ngeographiclib-1.50   | 34 KB     | ##################################### | 100% \nca-certificates-2019 | 145 KB    | ##################################### | 100% \ngeopy-1.21.0         | 58 KB     | ##################################### | 100% \ncertifi-2019.11.28   | 149 KB    | ##################################### | 100% \nopenssl-1.1.1d       | 2.1 MB    | ##################################### | 100% \nPreparing transaction: done\nVerifying transaction: done\nExecuting transaction: done\nAll the necessary Libraries are imported.\n"
                }
            ],
            "source": "import numpy as np \nimport pandas as pd \npd.set_option('display.max_columns', None)\npd.set_option('display.max_rows', None)\nimport json \nfrom geopy.geocoders import Nominatim # convert an address into latitude and longitude values\nimport requests # library to handle requests\nfrom pandas.io.json import json_normalize # tranform JSON file into a pandas dataframe\n# Matplotlib and associated plotting modules\nimport matplotlib.cm as cm\nimport matplotlib.colors as colors\n!pip install folium\nimport folium\n!conda install -c conda-forge geopy --yes\nprint('All the necessary Libraries are imported.')"
        },
        {
            "cell_type": "markdown",
            "metadata": {},
            "source": "Now, in order to obtain the accurate coordinates of Pairs, I would run the following code:- "
        },
        {
            "cell_type": "code",
            "execution_count": 3,
            "metadata": {},
            "outputs": [
                {
                    "name": "stdout",
                    "output_type": "stream",
                    "text": "The geograpical coordinates of Paris are 48.8566969, 2.3514616.\n"
                }
            ],
            "source": "address = 'Paris, Paris'\n\ngeolocator = Nominatim(user_agent=\"paris_explorer\")\nlocation = geolocator.geocode(address)\nlatitude = location.latitude\nlongitude = location.longitude\nprint('The geograpical coordinates of Paris are {}, {}.'.format(latitude, longitude))"
        },
        {
            "cell_type": "markdown",
            "metadata": {},
            "source": "For setting up my Foursquare API with my personlised ID, I would run the following code:-"
        },
        {
            "cell_type": "code",
            "execution_count": 4,
            "metadata": {},
            "outputs": [
                {
                    "name": "stdout",
                    "output_type": "stream",
                    "text": "Your credentails:\nCLIENT_ID: GZWDBZTKWJB2F33CHESEOH0ETX3ICXJVCQ3TAMO35PGB4CGZ\nCLIENT_SECRET:AWJVUDH53T50ZCNLTV34KSD0U5ZNYNI4VLRTRB01VRZVR4DU\n"
                }
            ],
            "source": "CLIENT_ID = 'GZWDBZTKWJB2F33CHESEOH0ETX3ICXJVCQ3TAMO35PGB4CGZ' # your Foursquare ID\nCLIENT_SECRET = 'AWJVUDH53T50ZCNLTV34KSD0U5ZNYNI4VLRTRB01VRZVR4DU' # your Foursquare Secret\nVERSION = '202001218' # Foursquare API version\nLIMIT = 100\nprint('Your credentails:')\nprint('CLIENT_ID: ' + CLIENT_ID)\nprint('CLIENT_SECRET:' + CLIENT_SECRET)"
        },
        {
            "cell_type": "markdown",
            "metadata": {},
            "source": "Now I need to specify the restaurant-query. For that:-"
        },
        {
            "cell_type": "code",
            "execution_count": 5,
            "metadata": {},
            "outputs": [
                {
                    "name": "stdout",
                    "output_type": "stream",
                    "text": "Restaurant .... Done!\n"
                }
            ],
            "source": "search_query = 'Restaurant'\nradius = 50000\nprint(search_query + ' .... Done!')"
        },
        {
            "cell_type": "code",
            "execution_count": 6,
            "metadata": {},
            "outputs": [
                {
                    "data": {
                        "text/plain": "'https://api.foursquare.com/v2/venues/search?client_id=GZWDBZTKWJB2F33CHESEOH0ETX3ICXJVCQ3TAMO35PGB4CGZ&client_secret=AWJVUDH53T50ZCNLTV34KSD0U5ZNYNI4VLRTRB01VRZVR4DU&ll=48.8566969,2.3514616&v=202001218&query=Restaurant&radius=50000&limit=100'"
                    },
                    "execution_count": 6,
                    "metadata": {},
                    "output_type": "execute_result"
                }
            ],
            "source": "url = 'https://api.foursquare.com/v2/venues/search?client_id={}&client_secret={}&ll={},{}&v={}&query={}&radius={}&limit={}'.format(CLIENT_ID, CLIENT_SECRET, latitude, longitude, VERSION, search_query, radius, LIMIT)\nurl"
        },
        {
            "cell_type": "code",
            "execution_count": 7,
            "metadata": {},
            "outputs": [
                {
                    "data": {
                        "text/html": "<div>\n<style scoped>\n    .dataframe tbody tr th:only-of-type {\n        vertical-align: middle;\n    }\n\n    .dataframe tbody tr th {\n        vertical-align: top;\n    }\n\n    .dataframe thead th {\n        text-align: right;\n    }\n</style>\n<table border=\"1\" class=\"dataframe\">\n  <thead>\n    <tr style=\"text-align: right;\">\n      <th></th>\n      <th>categories</th>\n      <th>hasPerk</th>\n      <th>id</th>\n      <th>location.address</th>\n      <th>location.cc</th>\n      <th>location.city</th>\n      <th>location.country</th>\n      <th>location.crossStreet</th>\n      <th>location.distance</th>\n      <th>location.formattedAddress</th>\n      <th>location.labeledLatLngs</th>\n      <th>location.lat</th>\n      <th>location.lng</th>\n      <th>location.neighborhood</th>\n      <th>location.postalCode</th>\n      <th>location.state</th>\n      <th>name</th>\n      <th>referralId</th>\n      <th>venuePage.id</th>\n    </tr>\n  </thead>\n  <tbody>\n    <tr>\n      <th>0</th>\n      <td>[{'id': '4bf58dd8d48988d10c941735', 'name': 'F...</td>\n      <td>False</td>\n      <td>50445ef7e4b0ba0a539ad83f</td>\n      <td>23 rue d'Arcole</td>\n      <td>FR</td>\n      <td>Paris</td>\n      <td>France</td>\n      <td>NaN</td>\n      <td>373</td>\n      <td>[23 rue d'Arcole, 75004 Paris, France]</td>\n      <td>[{'label': 'display', 'lat': 48.85362193008465...</td>\n      <td>48.853622</td>\n      <td>2.349421</td>\n      <td>NaN</td>\n      <td>75004</td>\n      <td>\u00cele-de-France</td>\n      <td>Restaurant Aux Tours de Notre-Dame</td>\n      <td>v-1582442715</td>\n      <td>NaN</td>\n    </tr>\n    <tr>\n      <th>1</th>\n      <td>[{'id': '4bf58dd8d48988d10c941735', 'name': 'F...</td>\n      <td>False</td>\n      <td>4e2b2d0ad22d3f83c88c7029</td>\n      <td>12 passage Moli\u00e8re</td>\n      <td>FR</td>\n      <td>Paris</td>\n      <td>France</td>\n      <td>NaN</td>\n      <td>626</td>\n      <td>[12 passage Moli\u00e8re, 75003 Paris, France]</td>\n      <td>[{'label': 'display', 'lat': 48.86232131013030...</td>\n      <td>48.862321</td>\n      <td>2.351590</td>\n      <td>NaN</td>\n      <td>75003</td>\n      <td>\u00cele-de-France</td>\n      <td>Le Restaurant des Po\u00e8tes</td>\n      <td>v-1582442715</td>\n      <td>NaN</td>\n    </tr>\n    <tr>\n      <th>2</th>\n      <td>[{'id': '4bf58dd8d48988d10c941735', 'name': 'F...</td>\n      <td>False</td>\n      <td>4cbb05054352a1cd0d4396f5</td>\n      <td>1 rue de la L\u00e9gion d'Honneur</td>\n      <td>FR</td>\n      <td>Paris</td>\n      <td>France</td>\n      <td>NaN</td>\n      <td>1950</td>\n      <td>[1 rue de la L\u00e9gion d'Honneur, 75007 Paris, Fr...</td>\n      <td>[{'label': 'display', 'lat': 48.86029986248957...</td>\n      <td>48.860300</td>\n      <td>2.325392</td>\n      <td>NaN</td>\n      <td>75007</td>\n      <td>\u00cele-de-France</td>\n      <td>Le Restaurant du Mus\u00e9e d'Orsay</td>\n      <td>v-1582442715</td>\n      <td>NaN</td>\n    </tr>\n    <tr>\n      <th>3</th>\n      <td>[{'id': '4bf58dd8d48988d10c941735', 'name': 'F...</td>\n      <td>False</td>\n      <td>59ab059c86bc49021b313ca9</td>\n      <td>47 rue Berger</td>\n      <td>FR</td>\n      <td>Paris</td>\n      <td>France</td>\n      <td>NaN</td>\n      <td>895</td>\n      <td>[47 rue Berger, 75001 Paris, France]</td>\n      <td>[{'label': 'display', 'lat': 48.86219809159731...</td>\n      <td>48.862198</td>\n      <td>2.342542</td>\n      <td>NaN</td>\n      <td>75001</td>\n      <td>\u00cele-de-France</td>\n      <td>Restaurant Le Mona Lisa</td>\n      <td>v-1582442715</td>\n      <td>NaN</td>\n    </tr>\n    <tr>\n      <th>4</th>\n      <td>[{'id': '4bf58dd8d48988d10c941735', 'name': 'F...</td>\n      <td>False</td>\n      <td>4d4960ae9544a09370bb27e7</td>\n      <td>91 rue La Bo\u00e9tie</td>\n      <td>FR</td>\n      <td>Paris</td>\n      <td>France</td>\n      <td>NaN</td>\n      <td>1343</td>\n      <td>[91 rue La Bo\u00e9tie, 75008 Paris, France]</td>\n      <td>[{'label': 'display', 'lat': 48.85568519411101...</td>\n      <td>48.855685</td>\n      <td>2.333184</td>\n      <td>NaN</td>\n      <td>75008</td>\n      <td>\u00cele-de-France</td>\n      <td>Restaurant Au 35</td>\n      <td>v-1582442715</td>\n      <td>NaN</td>\n    </tr>\n  </tbody>\n</table>\n</div>",
                        "text/plain": "                                          categories  hasPerk  \\\n0  [{'id': '4bf58dd8d48988d10c941735', 'name': 'F...    False   \n1  [{'id': '4bf58dd8d48988d10c941735', 'name': 'F...    False   \n2  [{'id': '4bf58dd8d48988d10c941735', 'name': 'F...    False   \n3  [{'id': '4bf58dd8d48988d10c941735', 'name': 'F...    False   \n4  [{'id': '4bf58dd8d48988d10c941735', 'name': 'F...    False   \n\n                         id              location.address location.cc  \\\n0  50445ef7e4b0ba0a539ad83f               23 rue d'Arcole          FR   \n1  4e2b2d0ad22d3f83c88c7029            12 passage Moli\u00e8re          FR   \n2  4cbb05054352a1cd0d4396f5  1 rue de la L\u00e9gion d'Honneur          FR   \n3  59ab059c86bc49021b313ca9                 47 rue Berger          FR   \n4  4d4960ae9544a09370bb27e7              91 rue La Bo\u00e9tie          FR   \n\n  location.city location.country location.crossStreet  location.distance  \\\n0         Paris           France                  NaN                373   \n1         Paris           France                  NaN                626   \n2         Paris           France                  NaN               1950   \n3         Paris           France                  NaN                895   \n4         Paris           France                  NaN               1343   \n\n                           location.formattedAddress  \\\n0             [23 rue d'Arcole, 75004 Paris, France]   \n1          [12 passage Moli\u00e8re, 75003 Paris, France]   \n2  [1 rue de la L\u00e9gion d'Honneur, 75007 Paris, Fr...   \n3               [47 rue Berger, 75001 Paris, France]   \n4            [91 rue La Bo\u00e9tie, 75008 Paris, France]   \n\n                             location.labeledLatLngs  location.lat  \\\n0  [{'label': 'display', 'lat': 48.85362193008465...     48.853622   \n1  [{'label': 'display', 'lat': 48.86232131013030...     48.862321   \n2  [{'label': 'display', 'lat': 48.86029986248957...     48.860300   \n3  [{'label': 'display', 'lat': 48.86219809159731...     48.862198   \n4  [{'label': 'display', 'lat': 48.85568519411101...     48.855685   \n\n   location.lng location.neighborhood location.postalCode location.state  \\\n0      2.349421                   NaN               75004  \u00cele-de-France   \n1      2.351590                   NaN               75003  \u00cele-de-France   \n2      2.325392                   NaN               75007  \u00cele-de-France   \n3      2.342542                   NaN               75001  \u00cele-de-France   \n4      2.333184                   NaN               75008  \u00cele-de-France   \n\n                                 name    referralId venuePage.id  \n0  Restaurant Aux Tours de Notre-Dame  v-1582442715          NaN  \n1            Le Restaurant des Po\u00e8tes  v-1582442715          NaN  \n2      Le Restaurant du Mus\u00e9e d'Orsay  v-1582442715          NaN  \n3             Restaurant Le Mona Lisa  v-1582442715          NaN  \n4                    Restaurant Au 35  v-1582442715          NaN  "
                    },
                    "execution_count": 7,
                    "metadata": {},
                    "output_type": "execute_result"
                }
            ],
            "source": "results = requests.get(url).json()\nvenues = results['response']['venues']\ndataframe = json_normalize(venues)\ndataframe.head()"
        },
        {
            "cell_type": "code",
            "execution_count": 8,
            "metadata": {},
            "outputs": [
                {
                    "data": {
                        "text/html": "<div>\n<style scoped>\n    .dataframe tbody tr th:only-of-type {\n        vertical-align: middle;\n    }\n\n    .dataframe tbody tr th {\n        vertical-align: top;\n    }\n\n    .dataframe thead th {\n        text-align: right;\n    }\n</style>\n<table border=\"1\" class=\"dataframe\">\n  <thead>\n    <tr style=\"text-align: right;\">\n      <th></th>\n      <th>name</th>\n      <th>categories</th>\n      <th>address</th>\n      <th>cc</th>\n      <th>city</th>\n      <th>country</th>\n      <th>crossStreet</th>\n      <th>distance</th>\n      <th>formattedAddress</th>\n      <th>labeledLatLngs</th>\n      <th>lat</th>\n      <th>lng</th>\n      <th>neighborhood</th>\n      <th>postalCode</th>\n      <th>state</th>\n      <th>id</th>\n    </tr>\n  </thead>\n  <tbody>\n    <tr>\n      <th>0</th>\n      <td>Restaurant Aux Tours de Notre-Dame</td>\n      <td>French Restaurant</td>\n      <td>23 rue d'Arcole</td>\n      <td>FR</td>\n      <td>Paris</td>\n      <td>France</td>\n      <td>NaN</td>\n      <td>373</td>\n      <td>[23 rue d'Arcole, 75004 Paris, France]</td>\n      <td>[{'label': 'display', 'lat': 48.85362193008465...</td>\n      <td>48.853622</td>\n      <td>2.349421</td>\n      <td>NaN</td>\n      <td>75004</td>\n      <td>\u00cele-de-France</td>\n      <td>50445ef7e4b0ba0a539ad83f</td>\n    </tr>\n    <tr>\n      <th>1</th>\n      <td>Le Restaurant des Po\u00e8tes</td>\n      <td>French Restaurant</td>\n      <td>12 passage Moli\u00e8re</td>\n      <td>FR</td>\n      <td>Paris</td>\n      <td>France</td>\n      <td>NaN</td>\n      <td>626</td>\n      <td>[12 passage Moli\u00e8re, 75003 Paris, France]</td>\n      <td>[{'label': 'display', 'lat': 48.86232131013030...</td>\n      <td>48.862321</td>\n      <td>2.351590</td>\n      <td>NaN</td>\n      <td>75003</td>\n      <td>\u00cele-de-France</td>\n      <td>4e2b2d0ad22d3f83c88c7029</td>\n    </tr>\n    <tr>\n      <th>2</th>\n      <td>Le Restaurant du Mus\u00e9e d'Orsay</td>\n      <td>French Restaurant</td>\n      <td>1 rue de la L\u00e9gion d'Honneur</td>\n      <td>FR</td>\n      <td>Paris</td>\n      <td>France</td>\n      <td>NaN</td>\n      <td>1950</td>\n      <td>[1 rue de la L\u00e9gion d'Honneur, 75007 Paris, Fr...</td>\n      <td>[{'label': 'display', 'lat': 48.86029986248957...</td>\n      <td>48.860300</td>\n      <td>2.325392</td>\n      <td>NaN</td>\n      <td>75007</td>\n      <td>\u00cele-de-France</td>\n      <td>4cbb05054352a1cd0d4396f5</td>\n    </tr>\n    <tr>\n      <th>3</th>\n      <td>Restaurant Le Mona Lisa</td>\n      <td>French Restaurant</td>\n      <td>47 rue Berger</td>\n      <td>FR</td>\n      <td>Paris</td>\n      <td>France</td>\n      <td>NaN</td>\n      <td>895</td>\n      <td>[47 rue Berger, 75001 Paris, France]</td>\n      <td>[{'label': 'display', 'lat': 48.86219809159731...</td>\n      <td>48.862198</td>\n      <td>2.342542</td>\n      <td>NaN</td>\n      <td>75001</td>\n      <td>\u00cele-de-France</td>\n      <td>59ab059c86bc49021b313ca9</td>\n    </tr>\n    <tr>\n      <th>4</th>\n      <td>Restaurant Au 35</td>\n      <td>French Restaurant</td>\n      <td>91 rue La Bo\u00e9tie</td>\n      <td>FR</td>\n      <td>Paris</td>\n      <td>France</td>\n      <td>NaN</td>\n      <td>1343</td>\n      <td>[91 rue La Bo\u00e9tie, 75008 Paris, France]</td>\n      <td>[{'label': 'display', 'lat': 48.85568519411101...</td>\n      <td>48.855685</td>\n      <td>2.333184</td>\n      <td>NaN</td>\n      <td>75008</td>\n      <td>\u00cele-de-France</td>\n      <td>4d4960ae9544a09370bb27e7</td>\n    </tr>\n    <tr>\n      <th>5</th>\n      <td>Restaurant de l'Institut du Monde Arabe.</td>\n      <td>Middle Eastern Restaurant</td>\n      <td>1 rue des Foss\u00e9s Saint-Bernard</td>\n      <td>FR</td>\n      <td>Paris</td>\n      <td>France</td>\n      <td>Institut du Monde Arabe</td>\n      <td>963</td>\n      <td>[1 rue des Foss\u00e9s Saint-Bernard (Institut du M...</td>\n      <td>[{'label': 'display', 'lat': 48.84881796195433...</td>\n      <td>48.848818</td>\n      <td>2.356911</td>\n      <td>NaN</td>\n      <td>75005</td>\n      <td>\u00cele-de-France</td>\n      <td>4bd1e55c9854d13a2c79fa4d</td>\n    </tr>\n    <tr>\n      <th>6</th>\n      <td>Restaurant 58 Tour Eiffel</td>\n      <td>French Restaurant</td>\n      <td>5 avenue Anatole France</td>\n      <td>FR</td>\n      <td>Paris</td>\n      <td>France</td>\n      <td>Tour Eiffel, 1er \u00e9tage</td>\n      <td>4194</td>\n      <td>[5 avenue Anatole France (Tour Eiffel, 1er \u00e9ta...</td>\n      <td>[{'label': 'display', 'lat': 48.85836582402155...</td>\n      <td>48.858366</td>\n      <td>2.294249</td>\n      <td>NaN</td>\n      <td>75007</td>\n      <td>\u00cele-de-France</td>\n      <td>4e078807e4cdefcff6dce4f6</td>\n    </tr>\n    <tr>\n      <th>7</th>\n      <td>Restaurant Hotel Little Palace</td>\n      <td>Restaurant</td>\n      <td>Hotel Little Palace</td>\n      <td>FR</td>\n      <td>Paris</td>\n      <td>France</td>\n      <td>4 rue Salomon de Caus</td>\n      <td>1201</td>\n      <td>[Hotel Little Palace (4 rue Salomon de Caus), ...</td>\n      <td>[{'label': 'display', 'lat': 48.867386, 'lng':...</td>\n      <td>48.867386</td>\n      <td>2.353741</td>\n      <td>NaN</td>\n      <td>75003</td>\n      <td>\u00cele-de-France</td>\n      <td>4f8e6f92e4b0cb228782dc5f</td>\n    </tr>\n    <tr>\n      <th>8</th>\n      <td>Restaurant Costes Saint-Honor\u00e9</td>\n      <td>French Restaurant</td>\n      <td>H\u00f4tel Costes</td>\n      <td>FR</td>\n      <td>Paris</td>\n      <td>France</td>\n      <td>239 rue Saint-Honor\u00e9</td>\n      <td>2053</td>\n      <td>[H\u00f4tel Costes (239 rue Saint-Honor\u00e9), Paris, F...</td>\n      <td>[{'label': 'display', 'lat': 48.86669789450374...</td>\n      <td>48.866698</td>\n      <td>2.327894</td>\n      <td>NaN</td>\n      <td>NaN</td>\n      <td>\u00cele-de-France</td>\n      <td>52cf091111d2d9bb920d6122</td>\n    </tr>\n    <tr>\n      <th>9</th>\n      <td>Restaurant Le Meurice Alain Ducasse</td>\n      <td>French Restaurant</td>\n      <td>228 rue de Rivoli</td>\n      <td>FR</td>\n      <td>Paris</td>\n      <td>France</td>\n      <td>H\u00f4tel Le Meurice</td>\n      <td>1963</td>\n      <td>[228 rue de Rivoli (H\u00f4tel Le Meurice), 75001 P...</td>\n      <td>[{'label': 'display', 'lat': 48.86529145109384...</td>\n      <td>48.865291</td>\n      <td>2.328056</td>\n      <td>NaN</td>\n      <td>75001</td>\n      <td>\u00cele-de-France</td>\n      <td>4adcda13f964a520e53621e3</td>\n    </tr>\n  </tbody>\n</table>\n</div>",
                        "text/plain": "                                       name                 categories  \\\n0        Restaurant Aux Tours de Notre-Dame          French Restaurant   \n1                  Le Restaurant des Po\u00e8tes          French Restaurant   \n2            Le Restaurant du Mus\u00e9e d'Orsay          French Restaurant   \n3                   Restaurant Le Mona Lisa          French Restaurant   \n4                          Restaurant Au 35          French Restaurant   \n5  Restaurant de l'Institut du Monde Arabe.  Middle Eastern Restaurant   \n6                 Restaurant 58 Tour Eiffel          French Restaurant   \n7            Restaurant Hotel Little Palace                 Restaurant   \n8            Restaurant Costes Saint-Honor\u00e9          French Restaurant   \n9       Restaurant Le Meurice Alain Ducasse          French Restaurant   \n\n                          address  cc   city country              crossStreet  \\\n0                 23 rue d'Arcole  FR  Paris  France                      NaN   \n1              12 passage Moli\u00e8re  FR  Paris  France                      NaN   \n2    1 rue de la L\u00e9gion d'Honneur  FR  Paris  France                      NaN   \n3                   47 rue Berger  FR  Paris  France                      NaN   \n4                91 rue La Bo\u00e9tie  FR  Paris  France                      NaN   \n5  1 rue des Foss\u00e9s Saint-Bernard  FR  Paris  France  Institut du Monde Arabe   \n6         5 avenue Anatole France  FR  Paris  France   Tour Eiffel, 1er \u00e9tage   \n7             Hotel Little Palace  FR  Paris  France    4 rue Salomon de Caus   \n8                    H\u00f4tel Costes  FR  Paris  France     239 rue Saint-Honor\u00e9   \n9               228 rue de Rivoli  FR  Paris  France         H\u00f4tel Le Meurice   \n\n   distance                                   formattedAddress  \\\n0       373             [23 rue d'Arcole, 75004 Paris, France]   \n1       626          [12 passage Moli\u00e8re, 75003 Paris, France]   \n2      1950  [1 rue de la L\u00e9gion d'Honneur, 75007 Paris, Fr...   \n3       895               [47 rue Berger, 75001 Paris, France]   \n4      1343            [91 rue La Bo\u00e9tie, 75008 Paris, France]   \n5       963  [1 rue des Foss\u00e9s Saint-Bernard (Institut du M...   \n6      4194  [5 avenue Anatole France (Tour Eiffel, 1er \u00e9ta...   \n7      1201  [Hotel Little Palace (4 rue Salomon de Caus), ...   \n8      2053  [H\u00f4tel Costes (239 rue Saint-Honor\u00e9), Paris, F...   \n9      1963  [228 rue de Rivoli (H\u00f4tel Le Meurice), 75001 P...   \n\n                                      labeledLatLngs        lat       lng  \\\n0  [{'label': 'display', 'lat': 48.85362193008465...  48.853622  2.349421   \n1  [{'label': 'display', 'lat': 48.86232131013030...  48.862321  2.351590   \n2  [{'label': 'display', 'lat': 48.86029986248957...  48.860300  2.325392   \n3  [{'label': 'display', 'lat': 48.86219809159731...  48.862198  2.342542   \n4  [{'label': 'display', 'lat': 48.85568519411101...  48.855685  2.333184   \n5  [{'label': 'display', 'lat': 48.84881796195433...  48.848818  2.356911   \n6  [{'label': 'display', 'lat': 48.85836582402155...  48.858366  2.294249   \n7  [{'label': 'display', 'lat': 48.867386, 'lng':...  48.867386  2.353741   \n8  [{'label': 'display', 'lat': 48.86669789450374...  48.866698  2.327894   \n9  [{'label': 'display', 'lat': 48.86529145109384...  48.865291  2.328056   \n\n  neighborhood postalCode          state                        id  \n0          NaN      75004  \u00cele-de-France  50445ef7e4b0ba0a539ad83f  \n1          NaN      75003  \u00cele-de-France  4e2b2d0ad22d3f83c88c7029  \n2          NaN      75007  \u00cele-de-France  4cbb05054352a1cd0d4396f5  \n3          NaN      75001  \u00cele-de-France  59ab059c86bc49021b313ca9  \n4          NaN      75008  \u00cele-de-France  4d4960ae9544a09370bb27e7  \n5          NaN      75005  \u00cele-de-France  4bd1e55c9854d13a2c79fa4d  \n6          NaN      75007  \u00cele-de-France  4e078807e4cdefcff6dce4f6  \n7          NaN      75003  \u00cele-de-France  4f8e6f92e4b0cb228782dc5f  \n8          NaN        NaN  \u00cele-de-France  52cf091111d2d9bb920d6122  \n9          NaN      75001  \u00cele-de-France  4adcda13f964a520e53621e3  "
                    },
                    "execution_count": 8,
                    "metadata": {},
                    "output_type": "execute_result"
                }
            ],
            "source": "# keep only columns that include venue name, and anything that is associated with location\nfiltered_columns = ['name', 'categories'] + [col for col in dataframe.columns if col.startswith('location.')] + ['id']\ndataframe_paris = dataframe.loc[:, filtered_columns]\n\n# function that extracts the category of the venue\ndef get_category_type(row):\n    try:\n        categories_list = row['categories']\n    except:\n        categories_list = row['venue.categories']\n        \n    if len(categories_list) == 0:\n        return None\n    else:\n        return categories_list[0]['name']\n\n# filter the category for each row\ndataframe_paris['categories'] = dataframe_paris.apply(get_category_type, axis=1)\n\n# clean column names by keeping only last term\ndataframe_paris.columns = [column.split('.')[-1] for column in dataframe_paris.columns]\n\ndataframe_paris.head(10)"
        },
        {
            "cell_type": "markdown",
            "metadata": {},
            "source": "Data has now been collected and I am ready to proceed."
        },
        {
            "cell_type": "code",
            "execution_count": null,
            "metadata": {},
            "outputs": [],
            "source": ""
        }
    ],
    "metadata": {
        "kernelspec": {
            "display_name": "Python 3.6",
            "language": "python",
            "name": "python3"
        },
        "language_info": {
            "codemirror_mode": {
                "name": "ipython",
                "version": 3
            },
            "file_extension": ".py",
            "mimetype": "text/x-python",
            "name": "python",
            "nbconvert_exporter": "python",
            "pygments_lexer": "ipython3",
            "version": "3.6.9"
        }
    },
    "nbformat": 4,
    "nbformat_minor": 1
}